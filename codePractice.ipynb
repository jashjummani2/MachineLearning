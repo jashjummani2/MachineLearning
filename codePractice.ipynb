{
 "cells": [
  {
   "cell_type": "markdown",
   "id": "59c9d068-c5d5-41ea-b7cc-ebeb7e80af66",
   "metadata": {},
   "source": [
    "WAP to accept two numbers from the user and display their sum"
   ]
  },
  {
   "cell_type": "code",
   "execution_count": null,
   "id": "d9a598fd-baa5-4ae3-8650-d4870bfe1cc6",
   "metadata": {},
   "outputs": [],
   "source": [
    "number1 = int(input('Enter number 1:'))\n",
    "number2= int(input(\"Enter number 2:\"))\n",
    "sum1 = number1 + number2\n",
    "print('sum:',sum1)"
   ]
  },
  {
   "cell_type": "markdown",
   "id": "8d808c45-9ab6-4a23-b5c4-e7df955e1a5f",
   "metadata": {},
   "source": [
    "WAP to accept radius of a Circle from the user and calculate area and circumference"
   ]
  },
  {
   "cell_type": "code",
   "execution_count": null,
   "id": "ac2b8b01-4bdb-4e2e-a63f-91a3e5853263",
   "metadata": {},
   "outputs": [],
   "source": [
    "pi=3.14\n",
    "radius = float(input('Enter Radius of the circle:'))\n",
    "area = pi * radius * radius\n",
    "circumference = 2 * pi* radius\n",
    "print(\"Radius:{}, circumference:{}\".format(area,circumference))"
   ]
  },
  {
   "cell_type": "markdown",
   "id": "3c5967bf-2568-4b37-8b44-286b2f22d7bb",
   "metadata": {},
   "source": [
    "WAP to accept roll number , grade and percentage as input from the user and display it back"
   ]
  },
  {
   "cell_type": "code",
   "execution_count": null,
   "id": "d42fecd8-688d-4233-a65e-57f4605dab6b",
   "metadata": {},
   "outputs": [],
   "source": [
    "roll_no =int(input(\"Enter roll number\"))\n",
    "grade = float(input(\"Enter Grade\"))\n",
    "percentange = float(input(\" Enter Percentange\"))\n",
    "print(f\"Roll number:{roll_no},Grade:{grade},Percentange:{percentange}\")"
   ]
  },
  {
   "cell_type": "markdown",
   "id": "87858c22-6169-4d28-82c8-d8abf59ac29a",
   "metadata": {},
   "source": [
    "Write a program that asks the user to enter his/her name and age. Print out a message , displaying the user’s name along with the year in which they will turn 100 years old."
   ]
  },
  {
   "cell_type": "code",
   "execution_count": null,
   "id": "5ef9a121-b0a7-4b58-a454-d66781db7e94",
   "metadata": {},
   "outputs": [],
   "source": [
    "name = input(\"Enter your name:\")\n",
    "age=int(input(\"Enter your age:\"))\n",
    "diff = 2023 - age\n",
    "in_100 = diff + 100\n",
    "print(f\"{name} will be of age 100 in year {in_100}\")"
   ]
  },
  {
   "cell_type": "markdown",
   "id": "42bb76be-b93b-40b2-bf13-d00aa413348e",
   "metadata": {},
   "source": [
    "Write a program that asks the user to input 2 integers and adds them . Accept both the numbers in a single line only"
   ]
  },
  {
   "cell_type": "code",
   "execution_count": null,
   "id": "53ccc967-5345-47ac-8f21-4d198db61826",
   "metadata": {},
   "outputs": [],
   "source": [
    "x, y = [int(x) for x in input(\"Enter two values: \").split()]\n",
    "sum1=x+y\n",
    "print(sum1)"
   ]
  },
  {
   "cell_type": "markdown",
   "id": "6ab6f8a3-bb88-4fb2-8411-e2cd243ae63f",
   "metadata": {},
   "source": [
    "Write a Python program which accepts the user's first and last name and print them in reverse order with a space between them."
   ]
  },
  {
   "cell_type": "code",
   "execution_count": null,
   "id": "dd0f70d7-e412-4e79-b32e-1d546b50f972",
   "metadata": {},
   "outputs": [],
   "source": [
    "first_name = input(\"Enter First Name:\")\n",
    "last_name = input(\"Enter Last Name:\")\n",
    "print(first_name[::-1],last_name[::-1])"
   ]
  },
  {
   "cell_type": "markdown",
   "id": "ec1d36e9-e328-40e7-9d49-c9dbc4bda5fd",
   "metadata": {},
   "source": [
    "WAP to accept an integer from the user and check whether it is an even or odd "
   ]
  },
  {
   "cell_type": "code",
   "execution_count": null,
   "id": "0162b5fa-9888-4d63-b3d1-87bcc85e11d8",
   "metadata": {},
   "outputs": [],
   "source": [
    "var = int(input(\"Enter an Integer:\"))\n",
    "if var%2==0:\n",
    "    print(f\"{var} is Even\")\n",
    "else:\n",
    "    print(f\"{var} is Odd\")"
   ]
  },
  {
   "cell_type": "markdown",
   "id": "b4c8d663-0df4-44eb-9c3a-e07deeb2deff",
   "metadata": {},
   "source": [
    "WAP to accept a character from the user and check whether it is a capital letter or small letter. Assume user will input only alphabets"
   ]
  },
  {
   "cell_type": "code",
   "execution_count": null,
   "id": "e1857b96-9304-4bf4-bbd2-db6c2deff37f",
   "metadata": {},
   "outputs": [],
   "source": [
    "var1 = input(\"Enter a Character:\")\n",
    "if var1.isupper():\n",
    "    print(\"Capital\")\n",
    "else:\n",
    "    print(\"Small letter\")"
   ]
  },
  {
   "cell_type": "markdown",
   "id": "bd60c817-2ee5-4b35-bc8c-64d183a8266c",
   "metadata": {},
   "source": [
    "WAP to accept a character from the user and check whether it is a capital letter or small letter or a digit or some special symbol"
   ]
  },
  {
   "cell_type": "code",
   "execution_count": null,
   "id": "894afcd3-e5c5-491e-ac9d-f3bf2861d776",
   "metadata": {},
   "outputs": [],
   "source": [
    "ch = input(\"Enter a Character\") \n",
    "if(ch >= 'a' and ch <= 'z'): \n",
    "    print(ch, \"is an Small letter\")\n",
    "elif(ch >= 'A' and ch <= 'Z'):\n",
    "    print(ch,\"is Capital\")\n",
    "elif(ch >= '0' and ch <= '9'):\n",
    "    print(ch, \"is a Digit\")\n",
    "else:\n",
    "    print(ch, \"is a Special Character\")"
   ]
  },
  {
   "cell_type": "markdown",
   "id": "c0bac0b5-a08b-4120-a3a5-1b8ccb14aa9f",
   "metadata": {},
   "source": [
    "WAP to accept 3 integers from the user and without using any logical operator and cascading of relational operators , find out the greatest number amongst them"
   ]
  },
  {
   "cell_type": "code",
   "execution_count": null,
   "id": "91f0e075-2d0f-4b2a-b4d2-4e08703e6f24",
   "metadata": {},
   "outputs": [],
   "source": [
    "list1=[]\n",
    "for i in range(3):\n",
    "    a = int(input(f\"Enter number {i}:\"))\n",
    "    list1.append(a)\n",
    "list1.sort(reverse=True)\n",
    "list1[0]"
   ]
  },
  {
   "cell_type": "markdown",
   "id": "631d7ae9-a6c2-489f-ab8d-353888066052",
   "metadata": {},
   "source": [
    "WAP to accept a year from the user and check whether it is a leap year or not.\n"
   ]
  },
  {
   "cell_type": "code",
   "execution_count": null,
   "id": "91170a73-cfde-47f3-afbe-9976de1a57ec",
   "metadata": {},
   "outputs": [],
   "source": [
    "year = int(input(\"Enter a Year:\"))\n",
    "if ((year%4==0) and ((year%100!=0) or (year%400==0))):\n",
    "    print('Leap Year')\n",
    "else:\n",
    "    print('Not a Leap year')"
   ]
  },
  {
   "cell_type": "markdown",
   "id": "3e083cdf-ed1e-4389-8d10-5c30c4210900",
   "metadata": {},
   "source": [
    "number guessing game. "
   ]
  },
  {
   "cell_type": "code",
   "execution_count": null,
   "id": "e86ab134-a67f-43e3-a4dc-c28b6af520b3",
   "metadata": {},
   "outputs": [],
   "source": [
    "import random\n",
    "random=random.random()\n",
    "round_random=round(random*10)\n",
    "num = int(input(\"Guess:\"))\n",
    "while (num>0):\n",
    "  if (num==round_random):\n",
    "    print(\"You guessed it right\")\n",
    "    num=0\n",
    "  elif(num>round_random):\n",
    "    print('Number too large')\n",
    "    num = int(input(\"Guess:\"))\n",
    "  elif(round_random>num):\n",
    "    print('Number too small')\n",
    "    num = int(input(\"Guess:\"))\n",
    "print(\"Game Ended\")"
   ]
  },
  {
   "cell_type": "markdown",
   "id": "6a760be7-a4b9-48cf-8975-1886ba199495",
   "metadata": {},
   "source": [
    "Write a program to accept a string from the user and display it vertically but don’t display the vowels in it.\n"
   ]
  },
  {
   "cell_type": "code",
   "execution_count": null,
   "id": "473a8403-4e57-4243-89b9-4fc58f878dac",
   "metadata": {},
   "outputs": [],
   "source": [
    "inp = input(\"Enter a String:\")\n",
    "vowel =['a','e','i','o','u']\n",
    "for i in inp:\n",
    "  if i not in vowel:\n",
    "    print(i)"
   ]
  },
  {
   "cell_type": "markdown",
   "id": "410e4e9a-590e-428a-a1ea-619e5a541a69",
   "metadata": {},
   "source": [
    "Write a program to continuously accept integers from the user until the user types 0 and as soon as 0 is entered display sum of all the nos entered before 0\n"
   ]
  },
  {
   "cell_type": "code",
   "execution_count": null,
   "id": "f03030ad-a819-4bb3-be12-f4bc133deaff",
   "metadata": {},
   "outputs": [],
   "source": [
    "num = int(input('number:'))\n",
    "sum = 0\n",
    "while(num!=0):\n",
    "  if num<0:\n",
    "    num = int(input('number:'))\n",
    "  else:\n",
    "    sum = sum+ num\n",
    "    num = int(input('number:'))\n",
    "print(sum)"
   ]
  },
  {
   "cell_type": "markdown",
   "id": "81833617-9aae-4a80-868a-97ac68896832",
   "metadata": {},
   "source": [
    "Write a program to accept an integer from the user and display the sum of all the numbers from 1 to that number.\n"
   ]
  },
  {
   "cell_type": "code",
   "execution_count": null,
   "id": "3d4aef70-4089-4bd2-b30b-a5981b404a72",
   "metadata": {},
   "outputs": [],
   "source": [
    "sum1= 0\n",
    "num = int(input(\"Enter a Number:\"))\n",
    "for i in range(1,num+1):\n",
    "  sum1 = sum1+i\n",
    "print(\"Sum:\",sum1)"
   ]
  },
  {
   "cell_type": "markdown",
   "id": "6dbee464-20af-42d2-a5d9-a51839d18074",
   "metadata": {},
   "source": [
    "Write a program to accept an integer from the user and calculate its factorial\n"
   ]
  },
  {
   "cell_type": "code",
   "execution_count": null,
   "id": "617420a7-29d4-44b5-a604-88b915d7eef9",
   "metadata": {},
   "outputs": [],
   "source": [
    "num1 = int(input(\"Number:\"))\n",
    "fact=1\n",
    "for i in range(1,num1+1):\n",
    "  fact=fact*i\n",
    "print(fact)"
   ]
  },
  {
   "cell_type": "markdown",
   "id": "6476353d-3f25-4097-9755-bc4b685c1ddd",
   "metadata": {},
   "source": [
    "Patterns formation"
   ]
  },
  {
   "cell_type": "code",
   "execution_count": null,
   "id": "18f33716-8e35-42d5-91c7-a0431de48a89",
   "metadata": {},
   "outputs": [],
   "source": [
    "star='*'\n",
    "for i in range(4):\n",
    "  print(star,star,star)"
   ]
  },
  {
   "cell_type": "code",
   "execution_count": null,
   "id": "73e77eba-c326-4fe0-81de-dcd496f6035c",
   "metadata": {},
   "outputs": [],
   "source": [
    "k=4\n",
    "for i in range(4):\n",
    "  for j in range(0,k):\n",
    "    print(\"* \",end='')\n",
    "  k=k-1\n",
    "  print(\"\\r\")"
   ]
  },
  {
   "cell_type": "code",
   "execution_count": null,
   "id": "21461f00-4da7-4165-ba0b-4331d56a4eb7",
   "metadata": {},
   "outputs": [],
   "source": [
    "for i in range(4):\n",
    "  for j in range(0,i+1):\n",
    "    print(\"* \",end='')\n",
    "  \n",
    "  print(\"\\r\")"
   ]
  },
  {
   "attachments": {},
   "cell_type": "markdown",
   "id": "a1a1f07e",
   "metadata": {},
   "source": [
    "Write a program to accept an integer from the user and display all the numbers from 1 to that number. Repeat the process until the user enters 0."
   ]
  },
  {
   "cell_type": "code",
   "execution_count": 1,
   "id": "3522d339",
   "metadata": {},
   "outputs": [
    {
     "ename": "ValueError",
     "evalue": "invalid literal for int() with base 10: ''",
     "output_type": "error",
     "traceback": [
      "\u001b[0;31m---------------------------------------------------------------------------\u001b[0m",
      "\u001b[0;31mValueError\u001b[0m                                Traceback (most recent call last)",
      "\u001b[0;32m<ipython-input-1-e458ef2cbeb0>\u001b[0m in \u001b[0;36m<module>\u001b[0;34m\u001b[0m\n\u001b[0;32m----> 1\u001b[0;31m \u001b[0mnum\u001b[0m \u001b[0;34m=\u001b[0m \u001b[0mint\u001b[0m\u001b[0;34m(\u001b[0m\u001b[0minput\u001b[0m\u001b[0;34m(\u001b[0m\u001b[0;34m\"num:\"\u001b[0m\u001b[0;34m)\u001b[0m\u001b[0;34m)\u001b[0m\u001b[0;34m\u001b[0m\u001b[0;34m\u001b[0m\u001b[0m\n\u001b[0m\u001b[1;32m      2\u001b[0m \u001b[0;34m\u001b[0m\u001b[0m\n\u001b[1;32m      3\u001b[0m \u001b[0;32mwhile\u001b[0m \u001b[0mnum\u001b[0m\u001b[0;34m>\u001b[0m\u001b[0;36m0\u001b[0m\u001b[0;34m:\u001b[0m\u001b[0;34m\u001b[0m\u001b[0;34m\u001b[0m\u001b[0m\n\u001b[1;32m      4\u001b[0m   \u001b[0msum\u001b[0m \u001b[0;34m=\u001b[0m \u001b[0;36m0\u001b[0m\u001b[0;34m\u001b[0m\u001b[0;34m\u001b[0m\u001b[0m\n\u001b[1;32m      5\u001b[0m   \u001b[0;32mfor\u001b[0m \u001b[0mi\u001b[0m \u001b[0;32min\u001b[0m \u001b[0mrange\u001b[0m\u001b[0;34m(\u001b[0m\u001b[0;36m1\u001b[0m\u001b[0;34m,\u001b[0m\u001b[0mnum\u001b[0m\u001b[0;34m+\u001b[0m\u001b[0;36m1\u001b[0m\u001b[0;34m)\u001b[0m\u001b[0;34m:\u001b[0m\u001b[0;34m\u001b[0m\u001b[0;34m\u001b[0m\u001b[0m\n",
      "\u001b[0;31mValueError\u001b[0m: invalid literal for int() with base 10: ''"
     ]
    }
   ],
   "source": [
    "num = int(input(\"num:\"))\n",
    "\n",
    "while num>0:\n",
    "  sum = 0\n",
    "  for i in range(1,num+1):\n",
    "    sum=sum+i\n",
    "  print(sum)\n",
    "  num = int(input(\"num:\")) \n",
    "print(\"End\")"
   ]
  },
  {
   "cell_type": "code",
   "execution_count": null,
   "id": "4a95f15f",
   "metadata": {},
   "outputs": [],
   "source": []
  }
 ],
 "metadata": {
  "kernelspec": {
   "display_name": "base",
   "language": "python",
   "name": "python3"
  },
  "language_info": {
   "codemirror_mode": {
    "name": "ipython",
    "version": 3
   },
   "file_extension": ".py",
   "mimetype": "text/x-python",
   "name": "python",
   "nbconvert_exporter": "python",
   "pygments_lexer": "ipython3",
   "version": "3.8.8"
  },
  "vscode": {
   "interpreter": {
    "hash": "40d3a090f54c6569ab1632332b64b2c03c39dcf918b08424e98f38b5ae0af88f"
   }
  }
 },
 "nbformat": 4,
 "nbformat_minor": 5
}
